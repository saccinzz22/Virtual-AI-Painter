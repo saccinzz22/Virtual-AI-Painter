{
 "cells": [
  {
   "cell_type": "code",
   "execution_count": null,
   "metadata": {},
   "outputs": [],
   "source": [
    "%pip install opencv-python "
   ]
  },
  {
   "cell_type": "code",
   "execution_count": 1,
   "metadata": {},
   "outputs": [],
   "source": [
    "import cv2\n",
    "import numpy as np"
   ]
  },
  {
   "cell_type": "markdown",
   "metadata": {},
   "source": [
    "### Testing Live Feed"
   ]
  },
  {
   "cell_type": "code",
   "execution_count": 2,
   "metadata": {},
   "outputs": [
    {
     "name": "stderr",
     "output_type": "stream",
     "text": [
      "2025-03-09 13:11:38.101 python[3000:49819] +[IMKClient subclass]: chose IMKClient_Modern\n",
      "2025-03-09 13:11:38.101 python[3000:49819] +[IMKInputSession subclass]: chose IMKInputSession_Modern\n"
     ]
    }
   ],
   "source": [
    "import cv2\n",
    "\n",
    "#Access the camera\n",
    "cap=cv2.VideoCapture(0)\n",
    "\n",
    "#Read frames from camera\n",
    "while True:\n",
    "    _, frame=cap.read()\n",
    "    cv2.imshow('Live',frame) #Show the frames in a new window\n",
    "    if cv2.waitKey(1) ==27:#1ms time gap between frames \n",
    "        break\n",
    "cap.release()\n",
    "cv2.destroyAllWindows()"
   ]
  },
  {
   "cell_type": "code",
   "execution_count": 3,
   "metadata": {},
   "outputs": [
    {
     "name": "stdout",
     "output_type": "stream",
     "text": [
      "Requirement already satisfied: mediapipe in /opt/anaconda3/lib/python3.12/site-packages (0.10.21)\n",
      "Requirement already satisfied: absl-py in /opt/anaconda3/lib/python3.12/site-packages (from mediapipe) (2.1.0)\n",
      "Requirement already satisfied: attrs>=19.1.0 in /opt/anaconda3/lib/python3.12/site-packages (from mediapipe) (23.1.0)\n",
      "Requirement already satisfied: flatbuffers>=2.0 in /opt/anaconda3/lib/python3.12/site-packages (from mediapipe) (24.3.25)\n",
      "Requirement already satisfied: jax in /opt/anaconda3/lib/python3.12/site-packages (from mediapipe) (0.5.0)\n",
      "Requirement already satisfied: jaxlib in /opt/anaconda3/lib/python3.12/site-packages (from mediapipe) (0.5.0)\n",
      "Requirement already satisfied: matplotlib in /opt/anaconda3/lib/python3.12/site-packages (from mediapipe) (3.8.4)\n",
      "Requirement already satisfied: numpy<2 in /opt/anaconda3/lib/python3.12/site-packages (from mediapipe) (1.26.4)\n",
      "Requirement already satisfied: opencv-contrib-python in /opt/anaconda3/lib/python3.12/site-packages (from mediapipe) (4.11.0.86)\n",
      "Requirement already satisfied: protobuf<5,>=4.25.3 in /opt/anaconda3/lib/python3.12/site-packages (from mediapipe) (4.25.6)\n",
      "Requirement already satisfied: sounddevice>=0.4.4 in /opt/anaconda3/lib/python3.12/site-packages (from mediapipe) (0.5.1)\n",
      "Requirement already satisfied: sentencepiece in /opt/anaconda3/lib/python3.12/site-packages (from mediapipe) (0.2.0)\n",
      "Requirement already satisfied: CFFI>=1.0 in /opt/anaconda3/lib/python3.12/site-packages (from sounddevice>=0.4.4->mediapipe) (1.16.0)\n",
      "Requirement already satisfied: ml_dtypes>=0.4.0 in /opt/anaconda3/lib/python3.12/site-packages (from jax->mediapipe) (0.4.1)\n",
      "Requirement already satisfied: opt_einsum in /opt/anaconda3/lib/python3.12/site-packages (from jax->mediapipe) (3.4.0)\n",
      "Requirement already satisfied: scipy>=1.11.1 in /opt/anaconda3/lib/python3.12/site-packages (from jax->mediapipe) (1.13.1)\n",
      "Requirement already satisfied: contourpy>=1.0.1 in /opt/anaconda3/lib/python3.12/site-packages (from matplotlib->mediapipe) (1.2.0)\n",
      "Requirement already satisfied: cycler>=0.10 in /opt/anaconda3/lib/python3.12/site-packages (from matplotlib->mediapipe) (0.11.0)\n",
      "Requirement already satisfied: fonttools>=4.22.0 in /opt/anaconda3/lib/python3.12/site-packages (from matplotlib->mediapipe) (4.51.0)\n",
      "Requirement already satisfied: kiwisolver>=1.3.1 in /opt/anaconda3/lib/python3.12/site-packages (from matplotlib->mediapipe) (1.4.4)\n",
      "Requirement already satisfied: packaging>=20.0 in /opt/anaconda3/lib/python3.12/site-packages (from matplotlib->mediapipe) (23.2)\n",
      "Requirement already satisfied: pillow>=8 in /opt/anaconda3/lib/python3.12/site-packages (from matplotlib->mediapipe) (10.3.0)\n",
      "Requirement already satisfied: pyparsing>=2.3.1 in /opt/anaconda3/lib/python3.12/site-packages (from matplotlib->mediapipe) (3.0.9)\n",
      "Requirement already satisfied: python-dateutil>=2.7 in /opt/anaconda3/lib/python3.12/site-packages (from matplotlib->mediapipe) (2.9.0.post0)\n",
      "Requirement already satisfied: pycparser in /opt/anaconda3/lib/python3.12/site-packages (from CFFI>=1.0->sounddevice>=0.4.4->mediapipe) (2.21)\n",
      "Requirement already satisfied: six>=1.5 in /opt/anaconda3/lib/python3.12/site-packages (from python-dateutil>=2.7->matplotlib->mediapipe) (1.16.0)\n",
      "Note: you may need to restart the kernel to use updated packages.\n"
     ]
    }
   ],
   "source": [
    "%pip install mediapipe"
   ]
  },
  {
   "cell_type": "markdown",
   "metadata": {},
   "source": [
    "### Drawing using Index Finger"
   ]
  },
  {
   "cell_type": "code",
   "execution_count": 4,
   "metadata": {},
   "outputs": [
    {
     "name": "stderr",
     "output_type": "stream",
     "text": [
      "WARNING: All log messages before absl::InitializeLog() is called are written to STDERR\n",
      "I0000 00:00:1741506150.712353   49819 gl_context.cc:369] GL version: 2.1 (2.1 Metal - 89.3), renderer: Apple M2\n"
     ]
    },
    {
     "name": "stderr",
     "output_type": "stream",
     "text": [
      "INFO: Created TensorFlow Lite XNNPACK delegate for CPU.\n",
      "W0000 00:00:1741506150.724303   51091 inference_feedback_manager.cc:114] Feedback manager requires a model with a single signature inference. Disabling support for feedback tensors.\n",
      "W0000 00:00:1741506150.732488   51091 inference_feedback_manager.cc:114] Feedback manager requires a model with a single signature inference. Disabling support for feedback tensors.\n"
     ]
    }
   ],
   "source": [
    "#import and load the model\n",
    "import mediapipe as mp\n",
    "\n",
    "#Load the hand tracking algorithm/model\n",
    "hands=mp.solutions.hands\n",
    "hand_landmark=hands.Hands(max_num_hands=1)"
   ]
  },
  {
   "cell_type": "code",
   "execution_count": 5,
   "metadata": {},
   "outputs": [],
   "source": [
    "frame_shape=(1080,1920,3) #Camera frame resolution"
   ]
  },
  {
   "cell_type": "code",
   "execution_count": 6,
   "metadata": {},
   "outputs": [
    {
     "name": "stderr",
     "output_type": "stream",
     "text": [
      "W0000 00:00:1741506162.695559   51093 landmark_projection_calculator.cc:186] Using NORM_RECT without IMAGE_DIMENSIONS is only supported for the square ROI. Provide IMAGE_DIMENSIONS or use PROJECTION_MATRIX.\n"
     ]
    }
   ],
   "source": [
    "\n",
    "prevxy=None\n",
    "mask=np.zeros(frame_shape,dtype='uint8') #create an array of same size as frame to permanently draw\n",
    "\n",
    "colour=[123,34,90]\n",
    "thickness=4\n",
    "\n",
    "#Access the camera\n",
    "cap=cv2.VideoCapture(0)\n",
    "draw=mp.solutions.drawing_utils\n",
    "\n",
    "#Read frames from camera\n",
    "while True:\n",
    "    _, frame=cap.read() #BGR format\n",
    "    frame = cv2.flip(frame, 1)  # Flip horizontally (mirror effect)\n",
    "\n",
    "    rgb=cv2.cvtColor(frame,cv2.COLOR_BGR2RGB)\n",
    "    op=hand_landmark.process(rgb)#contains all the information/points in the hand\n",
    "    \n",
    "    if op.multi_hand_landmarks:\n",
    "        for all_landmarks in op.multi_hand_landmarks: \n",
    "            draw.draw_landmarks(frame, all_landmarks, hands.HAND_CONNECTIONS)#plot all points on the hand\n",
    "            \n",
    "            #accessing the x and y coordinates \n",
    "            x=int(all_landmarks.landmark[8].x*frame_shape[1])\n",
    "            y=int(all_landmarks.landmark[8].y*frame_shape[0])\n",
    "\n",
    "            if prevxy!= None:\n",
    "                #Draw line\n",
    "                cv2.line(mask,prevxy, (x,y),colour,thickness)\n",
    "            prevxy=(x,y)\n",
    "    \n",
    "    #Merge frame and mask\n",
    "    frame=np.where(mask,mask,frame)\n",
    "    \n",
    "    cv2.imshow('Live',frame) #show the frames in a new window\n",
    "    if cv2.waitKey(1) ==27:#1ms time gap between frames \n",
    "        break\n",
    "cap.release()\n",
    "cv2.destroyAllWindows()"
   ]
  },
  {
   "cell_type": "markdown",
   "metadata": {},
   "source": [
    "<H2>Toolbar<H2>"
   ]
  },
  {
   "cell_type": "code",
   "execution_count": 7,
   "metadata": {},
   "outputs": [
    {
     "name": "stdout",
     "output_type": "stream",
     "text": [
      "(100, 600, 3)\n"
     ]
    }
   ],
   "source": [
    "#adding the toolbar to the frame\n",
    "import cv2\n",
    "tools = cv2.imread(\"/Users/sachin/Downloads/tool.png\")\n",
    "\n",
    "tools = cv2.resize(tools, (600, 100))#resizing the toolbar for better visibility\n",
    "\n",
    "tools = tools.astype('uint8') #converts the tools image array to the unsigned 8-bit integer (uint8) data type\n",
    "print(tools.shape)"
   ]
  },
  {
   "cell_type": "code",
   "execution_count": 8,
   "metadata": {},
   "outputs": [],
   "source": [
    "# Row and Column for toolbar\n",
    "midCol = 1920 // 2# Finds the middle column of the frame\n",
    "max_row = 100  #Height\n",
    "min_col = midCol - 300  #Left boundary\n",
    "max_col = midCol + 300 #Right boundary"
   ]
  },
  {
   "cell_type": "code",
   "execution_count": 9,
   "metadata": {},
   "outputs": [
    {
     "data": {
      "text/plain": [
       "-1"
      ]
     },
     "execution_count": 9,
     "metadata": {},
     "output_type": "execute_result"
    }
   ],
   "source": [
    "#Testing the tool bar in the live feed\n",
    "import cv2\n",
    "cap = cv2.VideoCapture(0)\n",
    "\n",
    "while True:\n",
    "    _, frame = cap.read()\n",
    "    frame = cv2.flip(frame, 1) \n",
    "    \n",
    "    frame[0:max_row, min_col:max_col] = tools\n",
    "    \n",
    "    cv2.imshow('Live', frame)\n",
    "    \n",
    "    if cv2.waitKey(10) == 27:\n",
    "        break\n",
    "  \n",
    "cap.release()\n",
    "cv2.waitKey(1)"
   ]
  },
  {
   "cell_type": "markdown",
   "metadata": {},
   "source": [
    "<H1>Selection in Toolbar<H1>"
   ]
  },
  {
   "cell_type": "code",
   "execution_count": 10,
   "metadata": {},
   "outputs": [],
   "source": [
    "#Draw only when the index and middle fingers are close(less than 60 pixels)\n",
    "\n",
    "#Check if distance between two points is less than 60 pixels\n",
    "def get_is_clicked(point1,point2):\n",
    "    (x1,y1)=point1\n",
    "    (x2,y2)=point2\n",
    "    \n",
    "    #Distance formula to calculate distance between two points\n",
    "    dis = (x1-x2)**2 + (y1-y2)**2\n",
    "    dis = np.sqrt(dis)\n",
    "    if dis<60:\n",
    "        return True \n",
    "    else:\n",
    "        return False\n",
    "    \n",
    "#Determine the tool selected by user\n",
    "def get_Tool(point,prev_tool): #point is the coordinate where the user has clicked\n",
    "    #prev_tool stores the previously used tool\n",
    "    (x,y)=point\n",
    "    \n",
    "    #Tool selection logic\n",
    "    if x > min_col and x < max_col and y < max_row:\n",
    "        if x < 120 + min_col:\n",
    "            curr_tool = \"line\"\n",
    "        elif x < 240 + min_col:\n",
    "            curr_tool = \"rectangle\"\n",
    "        elif x < 360 + min_col:\n",
    "            curr_tool = \"draw\"\n",
    "        elif x < 480 + min_col:\n",
    "            curr_tool = \"circle\"\n",
    "        elif x < 600 + min_col:\n",
    "            curr_tool = \"erase\"\n",
    "        return curr_tool\n",
    "    else:\n",
    "        return prev_tool\n",
    "    \n",
    "        "
   ]
  },
  {
   "cell_type": "markdown",
   "metadata": {},
   "source": [
    "### Drawing the Rectangle"
   ]
  },
  {
   "cell_type": "code",
   "execution_count": 11,
   "metadata": {},
   "outputs": [],
   "source": [
    "prevxy=None\n",
    "mask=np.zeros(frame_shape,dtype='uint8') #create an array of same size as frame to permanently draw\n",
    "\n",
    "colour=[125,100,140]\n",
    "thickness=4\n",
    "curr_tool='draw'\n",
    "start_point=None\n",
    "\n",
    "#Access the camera\n",
    "cap=cv2.VideoCapture(0)\n",
    "draw=mp.solutions.drawing_utils\n",
    "\n",
    "#Read frames from camera\n",
    "while True:\n",
    "    _, frame=cap.read() #BGR format\n",
    "    frame = cv2.flip(frame, 1)  # Flip horizontally (mirror effect)\n",
    "\n",
    "    rgb=cv2.cvtColor(frame,cv2.COLOR_BGR2RGB)\n",
    "    op=hand_landmark.process(rgb)#contains all the information/points in the hand\n",
    "    \n",
    "    #Check is hand is in frame\n",
    "    if op.multi_hand_landmarks:\n",
    "        for all_landmarks in op.multi_hand_landmarks: \n",
    "            draw.draw_landmarks(frame, all_landmarks, hands.HAND_CONNECTIONS)#plot all points on the hand\n",
    "            \n",
    "            #Insex finger location\n",
    "            x=int(all_landmarks.landmark[8].x*frame_shape[1])\n",
    "            y=int(all_landmarks.landmark[8].y*frame_shape[0])\n",
    "            x,y=int(x),int(y)\n",
    "            \n",
    "            #Middle finger location\n",
    "            middle_x = all_landmarks.landmark[12].x * frame_shape[1]\n",
    "            middle_y = all_landmarks.landmark[12].y * frame_shape[0]\n",
    "            middle_x, middle_y = int(middle_x), int(middle_y)\n",
    "            \n",
    "            is_clicked = get_is_clicked((x, y), (middle_x, middle_y))\n",
    "            curr_tool = get_Tool((x, y), curr_tool)\n",
    "\n",
    "            # Select tool and draw for that\n",
    "            if curr_tool == 'draw':\n",
    "                # Connect previous and current index finger locations\n",
    "                if is_clicked and prevxy!=None:\n",
    "                    cv2.line(mask, prevxy, (x, y), colour, thickness)\n",
    "            elif curr_tool == 'rectangle':\n",
    "                if is_clicked and start_point==None:\n",
    "                    start_point = (x, y)\n",
    "                \n",
    "                elif is_clicked:\n",
    "                    cv2.rectangle(frame, start_point, (x, y), colour, thickness)\n",
    "                \n",
    "                elif is_clicked==False and start_point:\n",
    "                    cv2.rectangle(mask, start_point, (x, y), colour, thickness)\n",
    "                    start_point=None\n",
    "            \n",
    "            prevxy=(x,y)\n",
    "    \n",
    "    #Merge frame and mask\n",
    "    frame=np.where(mask,mask,frame)\n",
    "    \n",
    "    frame[0:max_row, min_col:max_col] = tools\n",
    "     \n",
    "    cv2.imshow('Live',frame) #show the frames in a new window\n",
    "    if cv2.waitKey(1) ==27:#1ms time gap between frames \n",
    "        break\n",
    "cap.release()\n",
    "cv2.destroyAllWindows()"
   ]
  },
  {
   "cell_type": "markdown",
   "metadata": {},
   "source": [
    "### Initialising all the tools"
   ]
  },
  {
   "cell_type": "code",
   "execution_count": 12,
   "metadata": {},
   "outputs": [
    {
     "data": {
      "text/plain": [
       "-1"
      ]
     },
     "execution_count": 12,
     "metadata": {},
     "output_type": "execute_result"
    }
   ],
   "source": [
    "\n",
    "mask = np.zeros(frame_shape, dtype='uint8')\n",
    "colour = (125, 100, 140)\n",
    "thickness = 4\n",
    "curr_tool = 'draw'\n",
    "start_point = None\n",
    "\n",
    "cap = cv2.VideoCapture(0)\n",
    "prevxy = None\n",
    "\n",
    "while True:\n",
    "    _, frame = cap.read()\n",
    "    frame = cv2.flip(frame, 1)\n",
    "    \n",
    "    # Preprocess Image\n",
    "    rgb = cv2.cvtColor(frame, cv2.COLOR_BGR2RGB)\n",
    "    op = hand_landmark.process(rgb)\n",
    "    \n",
    "    # Check if hand is in frame\n",
    "    if op.multi_hand_landmarks:\n",
    "        for all_landmarks in op.multi_hand_landmarks:\n",
    "            draw.draw_landmarks(frame, all_landmarks, hands.HAND_CONNECTIONS)\n",
    "\n",
    "            # index finger location\n",
    "            x = all_landmarks.landmark[8].x * frame_shape[1]\n",
    "            y = all_landmarks.landmark[8].y * frame_shape[0]\n",
    "            x, y = int(x), int(y)\n",
    "            \n",
    "            # Middle finger location\n",
    "            middle_x = all_landmarks.landmark[12].x * frame_shape[1]\n",
    "            middle_y = all_landmarks.landmark[12].y * frame_shape[0]\n",
    "            middle_x, middle_y = int(middle_x), int(middle_y)\n",
    "            \n",
    "            is_clicked = get_is_clicked((x, y), (middle_x, middle_y))\n",
    "            curr_tool = get_Tool((x, y), curr_tool)\n",
    "\n",
    "            # Select tool and draw for that\n",
    "            if curr_tool == 'draw':\n",
    "                # Connect previous and current index finger locations\n",
    "                if is_clicked and prevxy!=None:\n",
    "                    cv2.line(mask, prevxy, (x, y), colour, thickness)\n",
    "            elif curr_tool == 'line':\n",
    "                if is_clicked and start_point is None:\n",
    "                    start_point = (x, y)  # Capture the starting point when fingers touch\n",
    "                elif is_clicked and start_point:\n",
    "                    #Show a temporary straight line\n",
    "                    cv2.line(frame, start_point, (x, y), colour, thickness)\n",
    "                elif not is_clicked and start_point:\n",
    "                    # Draw the final straight line on the mask\n",
    "                    cv2.line(mask, start_point, (x, y), colour, thickness)\n",
    "                    start_point = None  # Reset start point\n",
    "            elif curr_tool == 'rectangle':\n",
    "                if is_clicked and start_point==None:\n",
    "                    # Init start_point\n",
    "                    start_point = (x, y)\n",
    "                elif is_clicked:\n",
    "                    # Draw temp rectange\n",
    "                    cv2.rectangle(frame, start_point, (x, y), colour, thickness)\n",
    "                elif is_clicked==False and start_point:\n",
    "                    # draw perm. rectangle and reset start_point\n",
    "                    cv2.rectangle(mask, start_point, (x, y), colour, thickness)\n",
    "                    start_point=None                      \n",
    "            elif curr_tool=='circle':\n",
    "                if is_clicked and start_point==None:\n",
    "                    start_point = (x, y)\n",
    "                \n",
    "                if start_point:\n",
    "                    rad = int(((start_point[0]-x)**2 + (start_point[1]-y)**2)**0.5)\n",
    "                if is_clicked:\n",
    "                    cv2.circle(frame, start_point, rad, colour, thickness)\n",
    "                \n",
    "                if is_clicked==False and start_point:\n",
    "                    cv2.circle(mask, start_point, rad, colour, thickness)\n",
    "                \n",
    "                    start_point=None\n",
    "            \n",
    "            elif curr_tool == \"erase\":\n",
    "                #cv2.circle(frame, (x, y), 30, (0,0,0), -1) # -1 means fill\n",
    "                if is_clicked:\n",
    "                #    cv2.circle(mask, (x, y), 30, 0, -1)\n",
    "                    mask = np.zeros(frame.shape, dtype='uint8')  # Reset mask\n",
    "            prevxy = (x, y)    \n",
    "    \n",
    "    # Merge Frame and Mask\n",
    "    frame = np.where(mask, mask, frame)\n",
    "    \n",
    "    frame[0:max_row, min_col:max_col] = tools\n",
    "    cv2.imshow('Live', frame)\n",
    "    if cv2.waitKey(1) == 27:\n",
    "        break\n",
    "  \n",
    "cap.release()\n",
    "cv2.waitKey(1)"
   ]
  },
  {
   "cell_type": "markdown",
   "metadata": {},
   "source": [
    "### Adding a Canvas"
   ]
  },
  {
   "cell_type": "code",
   "execution_count": 13,
   "metadata": {},
   "outputs": [],
   "source": [
    "canvas = np.ones((1080, 1920, 3), dtype='uint8') * 255  # White background"
   ]
  },
  {
   "cell_type": "code",
   "execution_count": 14,
   "metadata": {},
   "outputs": [],
   "source": [
    "# Variables for drawing\n",
    "mask = np.zeros(frame_shape, dtype='uint8')\n",
    "colour = (125, 100, 140)\n",
    "thickness = 4\n",
    "curr_tool = 'draw'\n",
    "start_point = None\n",
    "\n",
    "cap = cv2.VideoCapture(0)\n",
    "draw=mp.solutions.drawing_utils\n",
    "prevxy = None\n",
    "\n",
    "while True:\n",
    "    _, frame = cap.read()\n",
    "    frame = cv2.flip(frame, 1)\n",
    "\n",
    "    # Preprocess Image\n",
    "    rgb = cv2.cvtColor(frame, cv2.COLOR_BGR2RGB)\n",
    "    op = hand_landmark.process(rgb)\n",
    "\n",
    "    if op.multi_hand_landmarks:\n",
    "        for all_landmarks in op.multi_hand_landmarks:\n",
    "            draw.draw_landmarks(frame, all_landmarks, hands.HAND_CONNECTIONS)\n",
    "\n",
    "            # index finger location\n",
    "            x = all_landmarks.landmark[8].x * frame_shape[1]\n",
    "            y = all_landmarks.landmark[8].y * frame_shape[0]\n",
    "            x, y = int(x), int(y)\n",
    "            \n",
    "            # Middle finger location\n",
    "            middle_x = all_landmarks.landmark[12].x * frame_shape[1]\n",
    "            middle_y = all_landmarks.landmark[12].y * frame_shape[0]\n",
    "            middle_x, middle_y = int(middle_x), int(middle_y)\n",
    "            \n",
    "            is_clicked = get_is_clicked((x, y), (middle_x, middle_y))\n",
    "            \n",
    "            curr_tool = get_Tool((x, y), curr_tool)\n",
    "\n",
    "            # Drawing logic\n",
    "            if curr_tool == 'draw':\n",
    "                if is_clicked and prevxy is not None:\n",
    "                    cv2.line(canvas, prevxy, (x, y), colour, thickness)\n",
    "\n",
    "            elif curr_tool == 'rectangle':\n",
    "                if is_clicked and start_point is None:\n",
    "                    start_point = (x, y)\n",
    "                elif is_clicked:\n",
    "                    cv2.rectangle(frame, start_point, (x, y), colour, thickness)\n",
    "                elif not is_clicked and start_point:\n",
    "                    cv2.rectangle(canvas, start_point, (x, y), colour, thickness)\n",
    "                    start_point = None\n",
    "\n",
    "            elif curr_tool == 'circle':\n",
    "                if is_clicked and start_point is None:\n",
    "                    start_point = (x, y)\n",
    "                if start_point:\n",
    "                    rad = int(np.linalg.norm(np.array(start_point) - np.array([x, y])))\n",
    "                if is_clicked:\n",
    "                    cv2.circle(frame, start_point, rad, colour, thickness)\n",
    "                elif not is_clicked and start_point:\n",
    "                    cv2.circle(canvas, start_point, rad, colour, thickness)\n",
    "                    start_point = None\n",
    "\n",
    "            elif curr_tool == 'line':\n",
    "                if is_clicked and start_point is None:\n",
    "                    start_point = (x, y)\n",
    "                elif is_clicked:\n",
    "                    cv2.line(frame, start_point, (x, y), colour, thickness)\n",
    "                elif not is_clicked and start_point:\n",
    "                    cv2.line(canvas, start_point, (x, y), colour, thickness)\n",
    "                    start_point = None\n",
    "\n",
    "            elif curr_tool == \"erase\":\n",
    "                canvas[:] = 255  # Clear the canvas\n",
    "\n",
    "            prevxy = (x, y)\n",
    "\n",
    "    # Merge canvas and toolbar\n",
    "    output = canvas.copy()\n",
    "    output[0:max_row, min_col:max_col] = tools\n",
    "    cv2.circle(output, (x, y), 5, (0, 0, 255), -1)\n",
    "    cv2.imshow('Live', output)\n",
    "\n",
    "    if cv2.waitKey(1) == 27:\n",
    "        break\n",
    "\n",
    "cap.release()\n",
    "cv2.destroyAllWindows()\n"
   ]
  },
  {
   "cell_type": "markdown",
   "metadata": {},
   "source": [
    "### Semi Transparent Canvas\n",
    "Used a semi-transparent background instead of a fully solid white canvas to ensure that the user can see both the live feed and their drawings at the same time, enhancing user experience"
   ]
  },
  {
   "cell_type": "code",
   "execution_count": 15,
   "metadata": {},
   "outputs": [],
   "source": [
    "# Variables for drawing\n",
    "canvas = np.ones(frame_shape, dtype='uint8') * 255  # Ensure canvas is visible\n",
    "colour = (125, 100, 140)\n",
    "thickness = 4\n",
    "curr_tool = None\n",
    "start_point = None\n",
    "\n",
    "cap = cv2.VideoCapture(0)\n",
    "draw = mp.solutions.drawing_utils\n",
    "prevxy = None\n",
    "\n",
    "while True:\n",
    "    _, frame = cap.read()\n",
    "    frame = cv2.flip(frame, 1)\n",
    "\n",
    "    # Preprocess Image\n",
    "    rgb = cv2.cvtColor(frame, cv2.COLOR_BGR2RGB)\n",
    "    op = hand_landmark.process(rgb)\n",
    "\n",
    "    # Copy canvas to display permanent drawings\n",
    "    output = canvas.copy()\n",
    "\n",
    "    if op.multi_hand_landmarks:\n",
    "        for all_landmarks in op.multi_hand_landmarks:\n",
    "            draw.draw_landmarks(frame, all_landmarks, hands.HAND_CONNECTIONS)\n",
    "\n",
    "            # Index finger location\n",
    "            x = int(all_landmarks.landmark[8].x * frame_shape[1])\n",
    "            y = int(all_landmarks.landmark[8].y * frame_shape[0])\n",
    "            \n",
    "            # Middle finger location\n",
    "            middle_x = int(all_landmarks.landmark[12].x * frame_shape[1])\n",
    "            middle_y = int(all_landmarks.landmark[12].y * frame_shape[0])\n",
    "            \n",
    "            is_clicked = get_is_clicked((x, y), (middle_x, middle_y))\n",
    "            curr_tool = get_Tool((x, y), curr_tool)\n",
    "\n",
    "            # Drawing logic\n",
    "            if curr_tool == 'draw':\n",
    "                if is_clicked and prevxy is not None:\n",
    "                    cv2.line(canvas, prevxy, (x, y), colour, thickness)\n",
    "                    cv2.line(output, prevxy, (x, y), colour, thickness)  # Show in real-time\n",
    "\n",
    "            elif curr_tool == 'rectangle':\n",
    "                if is_clicked and start_point is None:\n",
    "                    start_point = (x, y)\n",
    "                elif is_clicked:\n",
    "                    cv2.rectangle(output, start_point, (x, y), colour, thickness)  # Live preview\n",
    "                elif not is_clicked and start_point:\n",
    "                    cv2.rectangle(canvas, start_point, (x, y), colour, thickness)  # Save to canvas\n",
    "                    start_point = None\n",
    "\n",
    "            elif curr_tool == 'circle':\n",
    "                if is_clicked and start_point is None:\n",
    "                    start_point = (x, y)\n",
    "                if start_point:\n",
    "                    rad = int(np.linalg.norm(np.array(start_point) - np.array([x, y])))\n",
    "                if is_clicked:\n",
    "                    cv2.circle(output, start_point, rad, colour, thickness)  # Live preview\n",
    "                elif not is_clicked and start_point:\n",
    "                    cv2.circle(canvas, start_point, rad, colour, thickness)  # Save to canvas\n",
    "                    start_point = None\n",
    "\n",
    "            elif curr_tool == 'line':\n",
    "                if is_clicked and start_point is None:\n",
    "                    start_point = (x, y)\n",
    "                elif is_clicked:\n",
    "                    cv2.line(output, start_point, (x, y), colour, thickness)  # Live preview\n",
    "                elif not is_clicked and start_point:\n",
    "                    cv2.line(canvas, start_point, (x, y), colour, thickness)  # Save to canvas\n",
    "                    start_point = None\n",
    "\n",
    "            elif curr_tool == \"erase\":\n",
    "                canvas[:] = 255  # Clear only the canvas (not frame)\n",
    "\n",
    "            prevxy = (x, y)\n",
    "\n",
    "    # Merge frame with canvas for visibility\n",
    "    blended = cv2.addWeighted(frame, 0.4, output, 0.6, 0)  # Blend live view & drawings\n",
    "    blended[0:max_row, min_col:max_col] = tools  # Keep toolbar intact\n",
    "    cv2.circle(blended, (x, y), 5, (0, 0, 255), -1)  # Red cursor follows finger\n",
    "\n",
    "    cv2.imshow('Live', blended)\n",
    "\n",
    "    if cv2.waitKey(1) == 27:\n",
    "        break\n",
    "\n",
    "cap.release()\n",
    "cv2.destroyAllWindows()\n"
   ]
  },
  {
   "cell_type": "code",
   "execution_count": 16,
   "metadata": {},
   "outputs": [],
   "source": [
    "cap.release()\n",
    "cv2.destroyAllWindows()"
   ]
  }
 ],
 "metadata": {
  "kernelspec": {
   "display_name": "base",
   "language": "python",
   "name": "python3"
  },
  "language_info": {
   "codemirror_mode": {
    "name": "ipython",
    "version": 3
   },
   "file_extension": ".py",
   "mimetype": "text/x-python",
   "name": "python",
   "nbconvert_exporter": "python",
   "pygments_lexer": "ipython3",
   "version": "3.12.4"
  }
 },
 "nbformat": 4,
 "nbformat_minor": 2
}
